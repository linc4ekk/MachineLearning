{
 "cells": [
  {
   "cell_type": "markdown",
   "metadata": {
    "id": "approved-psychology"
   },
   "source": [
    "# Home Assignment No. 2 - part one\n",
    "\n",
    "To solve this task, you will write a lot of code to try several machine learning methods for classification and regression.\n",
    "* You are **HIGHLY RECOMMENDED** to read relevant documentation, e.g. for [python](https://docs.python.org/3/), [numpy](https://docs.scipy.org/doc/numpy/reference/), [matlpotlib](https://matplotlib.org/) and [sklearn](https://scikit-learn.org/stable/). Also remember that seminars, lecture slides, [Google](http://google.com) and [StackOverflow](https://stackoverflow.com/) are your close friends during this course (and, probably, whole life?).\n",
    "\n",
    "* If you want an easy life, you have to use **BUILT-IN METHODS** of `sklearn` library instead of writing tons of your own code. There exists a class/method for almost everything you can imagine (related to this homework).\n",
    "\n",
    "* You have to write **CODE** directly inside specified places marked by comments: **BEGIN/END Solution**. Do not create new cells.\n",
    "\n",
    "* In some problems you are asked to provide a short discussion of the results. For that find the specific place marked via **Your text answer: \\<write your answer\\>**.\n",
    "\n",
    "* For every separate problem or subproblem (if specified) you can get only 0 points or maximal points for this problem. There are **NO INTERMEDIATE scores**. So make sure that you did everything required in the task.\n",
    "\n",
    "* Your **SOLUTION** notebook **MUST BE REPRODUCIBLE**, i.e., if the reviewer decides to restart the notebook and run all cells, after all the computation he will obtain exactly the same solution (with all the corresponding plots) as in your uploaded notebook. For this purpose, we suggest fixing random `seed` or (better) define `random_state=` inside every algorithm that uses some pseudorandomness.\n",
    "\n",
    "* Your code must be clear to the reviewer. For this purpose, try to include necessary comments inside the code. But remember: **GOOD CODE MUST BE SELF-EXPLANATORY** without any additional comments.\n",
    "\n",
    "* Many `sklearn` algorithms support multithreading (Ensemble Methods, Cross-Validation, etc.). Check if the particular algorithm has `n_jobs` parameters and set it to `-1` to use all the cores.\n"
   ]
  },
  {
   "cell_type": "code",
   "execution_count": 1,
   "metadata": {
    "ExecuteTime": {
     "end_time": "2022-03-06T22:32:53.117566Z",
     "start_time": "2022-03-06T22:32:51.077312Z"
    },
    "id": "cooperative-spokesman"
   },
   "outputs": [],
   "source": [
    "import numpy as np\n",
    "import sklearn\n",
    "from sklearn.model_selection import train_test_split\n",
    "import pandas as pd\n",
    "import matplotlib.pyplot as plt\n",
    "from sklearn.model_selection import cross_val_score\n",
    "%matplotlib inline"
   ]
  },
  {
   "cell_type": "code",
   "execution_count": 2,
   "metadata": {
    "ExecuteTime": {
     "end_time": "2022-03-06T22:32:54.296136Z",
     "start_time": "2022-03-06T22:32:54.293706Z"
    },
    "id": "noted-bridal"
   },
   "outputs": [],
   "source": [
    "import warnings\n",
    "warnings.filterwarnings(\"ignore\")"
   ]
  },
  {
   "cell_type": "markdown",
   "metadata": {
    "id": "guilty-contamination"
   },
   "source": [
    "## Task 1. Model and feature selection problem (3 points)\n",
    "\n",
    "Your goal in this task is to predict the price (```price_doc```) given some characteristics of a house. In order to do that, you will demonstrate your abilities in data preprocessing, finding feature importances, applying different ML models."
   ]
  },
  {
   "cell_type": "markdown",
   "metadata": {
    "id": "friendly-review"
   },
   "source": [
    "### Subproblem 1.1. Data preprocessing and feauture importances (1 point)\n",
    "\n",
    "The goal of this subproblem is to prepare the data for further usage. Complete all of the following subtasks:"
   ]
  },
  {
   "cell_type": "markdown",
   "metadata": {
    "id": "rational-reggae"
   },
   "source": [
    "**1.1.1) load the dataset**"
   ]
  },
  {
   "cell_type": "code",
   "execution_count": 3,
   "metadata": {
    "ExecuteTime": {
     "end_time": "2022-03-06T22:32:58.995773Z",
     "start_time": "2022-03-06T22:32:57.555937Z"
    },
    "id": "nutritional-phoenix"
   },
   "outputs": [],
   "source": [
    "### BEGIN Solution (do not delete this comment)\n",
    "df = pd.read_csv('data_fs.csv')\n",
    "### END Solution (do not delete this comment)"
   ]
  },
  {
   "cell_type": "markdown",
   "metadata": {
    "id": "objective-working"
   },
   "source": [
    "**1.1.2) preprocess the dataset by dropping the ```timestamp``` feature, filling ```NaN```s with 0, converting the categorical variables into dummy variables**"
   ]
  },
  {
   "cell_type": "code",
   "execution_count": 4,
   "metadata": {
    "ExecuteTime": {
     "end_time": "2022-03-06T22:33:04.585023Z",
     "start_time": "2022-03-06T22:33:04.091134Z"
    },
    "id": "another-keyboard"
   },
   "outputs": [],
   "source": [
    "### BEGIN Solution (do not delete this comment)\n",
    "df.drop(['timestamp'], axis = 1, inplace = True)\n",
    "df.fillna(0, inplace = True)\n",
    "dummies = pd.get_dummies(df[list(df.columns[df.dtypes == 'object'])], drop_first= True)\n",
    "df = df.join(dummies)\n",
    "df = df.drop(list(df.columns[df.dtypes == 'object']), axis = 1)\n",
    "### END Solution (do not delete this comment)"
   ]
  },
  {
   "cell_type": "markdown",
   "metadata": {
    "id": "dress-shanghai"
   },
   "source": [
    "**1.1.3) define ```x_train```, ```x_test```, ```y_train```, ```y_test```. The train-test split should be 70:30**\n"
   ]
  },
  {
   "cell_type": "code",
   "execution_count": 5,
   "metadata": {
    "ExecuteTime": {
     "end_time": "2022-03-06T22:33:06.169235Z",
     "start_time": "2022-03-06T22:33:06.015018Z"
    },
    "id": "outdoor-runner"
   },
   "outputs": [],
   "source": [
    "### BEGIN Solution (do not delete this comment)\n",
    "X = df.drop(['price_doc'], axis = 1)\n",
    "y = df['price_doc']\n",
    "x_train, x_test, y_train, y_test = train_test_split(X, y, test_size=0.3, random_state=1)\n",
    "### END Solution (do not delete this comment)"
   ]
  },
  {
   "cell_type": "markdown",
   "metadata": {
    "id": "engaging-ready"
   },
   "source": [
    "\n",
    "**1.1.4) plot the histogram of y values. Note that the mean of these values is very high and the distribution of the values is far from normal. Create ```y_train_log``` and ```y_test_log``` by applying $log_{y}$. Now plot the new histogram of the obtained values. You should use these log values for the next subtasks.**   "
   ]
  },
  {
   "cell_type": "code",
   "execution_count": 6,
   "metadata": {
    "ExecuteTime": {
     "end_time": "2022-03-06T22:33:10.275993Z",
     "start_time": "2022-03-06T22:33:09.558263Z"
    }
   },
   "outputs": [
    {
     "data": {
      "image/png": "[encoded data removed]",
      "text/plain": [
       "<Figure size 432x288 with 1 Axes>"
      ]
     },
     "metadata": {
      "needs_background": "light"
     },
     "output_type": "display_data"
    },
    {
     "data": {
      "image/png": "[encoded data removed]",
      "text/plain": [
       "<Figure size 432x288 with 1 Axes>"
      ]
     },
     "metadata": {
      "needs_background": "light"
     },
     "output_type": "display_data"
    }
   ],
   "source": [
    "### BEGIN Solution (do not delete this comment)\n",
    "plt.hist(y, 130, facecolor='b')\n",
    "plt.title('price_doc')\n",
    "plt.grid(True)\n",
    "plt.show()\n",
    "\n",
    "y_train_log = y_train.map(lambda x: np.log(x))\n",
    "y_test_log = y_test.map(lambda x: np.log(x))\n",
    "y_log = y.map(lambda x: np.log(x))\n",
    "\n",
    "plt.hist(y_log, 150, facecolor='b')\n",
    "plt.title('price_doc')\n",
    "plt.grid(True)\n",
    "plt.show()\n",
    "### END Solution (do not delete this comment)"
   ]
  },
  {
   "cell_type": "markdown",
   "metadata": {
    "id": "noticed-drunk"
   },
   "source": [
    "**1.1.5) print the number of features in the created ```x_train``` and ```x_test``` datasets. Answer the question: do you think all of these features are relevant for the adequate price prediction?**\n"
   ]
  },
  {
   "cell_type": "code",
   "execution_count": 7,
   "metadata": {
    "ExecuteTime": {
     "end_time": "2022-03-06T22:33:14.500491Z",
     "start_time": "2022-03-06T22:33:14.496904Z"
    },
    "colab": {
     "base_uri": "https://localhost:8080/"
    },
    "id": "strategic-spending",
    "outputId": "60227791-3f62-4d31-cbcd-a5a8aada6763"
   },
   "outputs": [
    {
     "data": {
      "text/plain": [
       "(542, 542)"
      ]
     },
     "execution_count": 7,
     "metadata": {},
     "output_type": "execute_result"
    }
   ],
   "source": [
    "### BEGIN Solution (do not delete this comment)\n",
    "len(list(x_train.columns)), len(list(x_test.columns))\n",
    "### END Solution (do not delete this comment)"
   ]
  },
  {
   "cell_type": "markdown",
   "metadata": {
    "id": "restricted-anchor"
   },
   "source": [
    "**Your text answer (do not delete this comment)**:\n",
    "\n",
    "No, I suspect not all of these features are relevant for the adequate price prediction, for example \"church_count_\" and \"mosque_count_\". Also the number of features is quite high, so we can come to overfitting and not generalized model if we use all of them."
   ]
  },
  {
   "cell_type": "markdown",
   "metadata": {
    "id": "endangered-mineral"
   },
   "source": [
    "**1.1.6) use random forest to find the importance of the features. Plot the histogram of the importances.**"
   ]
  },
  {
   "cell_type": "code",
   "execution_count": null,
   "metadata": {
    "ExecuteTime": {
     "end_time": "2022-03-06T22:45:51.640975Z",
     "start_time": "2022-03-06T22:45:46.710404Z"
    }
   },
   "outputs": [],
   "source": [
    "### BEGIN Solution (do not delete this comment)\n",
    "from sklearn.ensemble import RandomForestRegressor\n",
    "clf = RandomForestRegressor(n_jobs = -1, random_state = 0)\n",
    "clf.fit(x_train, y_train_log)\n",
    "importances = clf.feature_importances_\n",
    "plt.hist(importances, 150, facecolor='b')\n",
    "plt.grid(True)\n",
    "plt.show()\n",
    "### END Solution (do not delete this comment)"
   ]
  },
  {
   "cell_type": "markdown",
   "metadata": {
    "id": "ethical-firmware"
   },
   "source": [
    "**1.1.7) print the names of the 20 most important features**"
   ]
  },
  {
   "cell_type": "code",
   "execution_count": 62,
   "metadata": {
    "ExecuteTime": {
     "end_time": "2022-02-26T22:46:50.030222Z",
     "start_time": "2022-02-26T22:46:50.025203Z"
    },
    "colab": {
     "base_uri": "https://localhost:8080/"
    },
    "id": "amazing-marriage",
    "outputId": "53ab5987-aa41-43f6-816e-37580d1cff79"
   },
   "outputs": [
    {
     "name": "stdout",
     "output_type": "stream",
     "text": [
      "['full_sq', 'sport_count_3000', 'cafe_count_2000', 'cafe_count_5000_price_2500', 'micex_rgbi_tr', 'cafe_count_5000', 'cafe_count_3000', 'rts', 'exhibition_km', 'eurrub', 'kindergarten_km', 'ttk_km', 'floor', 'catering_km', 'swim_pool_km', 'hospice_morgue_km', 'public_healthcare_km', 'cemetery_km', 'balance_trade_growth', 'usdrub']\n"
     ]
    }
   ],
   "source": [
    "### BEGIN Solution (do not delete this comment)\n",
    "indices = np.argsort(importances)[::-1]\n",
    "cols = list(df.columns)\n",
    "important_features = []\n",
    "for i in indices[:20]:\n",
    "    important_features.append(cols[i])\n",
    "print(important_features) \n",
    "### END Solution (do not delete this comment)"
   ]
  },
  {
   "cell_type": "markdown",
   "metadata": {
    "id": "threaded-ivory"
   },
   "source": [
    "<br>"
   ]
  },
  {
   "cell_type": "markdown",
   "metadata": {
    "id": "little-toddler"
   },
   "source": [
    "### Subproblem 1.2. Training models on the most important features (1 point)"
   ]
  },
  {
   "cell_type": "markdown",
   "metadata": {
    "id": "vietnamese-patrick"
   },
   "source": [
    "In this subproblem, you will train several ML models on the found 20 most important features: train **Linear Regression**,  **Ridge regression**, **Random forest**,  **DecisionTree** and evaluate their performance using the Root Mean Squared Logarithmic Error (RMSLE) on both train/test sets. \n",
    "\n",
    "You will have to repeat the same actions in the next tasks too, so we recommend to implement\n",
    "a dedicated function for comparisons, which\n",
    "1. on input takes a training dataset `(X_train, y_train)` and a test sample `(X_test, y_test)`;\n",
    "2. it trains **all of the listed models** on the `(X_train, y_train)` sample;\n",
    "3. it computes and returns a table with the RMSLE score of each fitted model on the train and test datasets."
   ]
  },
  {
   "cell_type": "markdown",
   "metadata": {
    "id": "stupid-principle"
   },
   "source": [
    "**1.2.1) Implement the function described above**"
   ]
  },
  {
   "cell_type": "code",
   "execution_count": 9,
   "metadata": {
    "ExecuteTime": {
     "end_time": "2022-03-06T22:36:40.842689Z",
     "start_time": "2022-03-06T22:36:40.837486Z"
    },
    "id": "paperback-uniform"
   },
   "outputs": [],
   "source": [
    "### BEGIN Solution (do not delete this comment)\n",
    "from sklearn.linear_model import LinearRegression, Ridge\n",
    "from sklearn.tree import DecisionTreeRegressor\n",
    "from sklearn.ensemble import RandomForestRegressor\n",
    "from sklearn.metrics import mean_squared_log_error\n",
    "def train_score(X_train, X_test, Y_train, Y_test):\n",
    "    clfs = [LinearRegression(), Ridge(), RandomForestRegressor(), DecisionTreeRegressor()]\n",
    "    train_error = ['','','','']\n",
    "    test_error = ['','','','']\n",
    "    for clf, i in zip(clfs, range(4)):\n",
    "        clf.fit(X_train, Y_train)\n",
    "        y_pred_test = clf.predict(X_test)\n",
    "        y_pred_train = clf.predict(X_train)\n",
    "        train_error[i] = np.sqrt(mean_squared_log_error(Y_train, y_pred_train))\n",
    "        test_error[i] = np.sqrt(mean_squared_log_error(Y_test, y_pred_test))\n",
    "        d = {'Methods': ['Linear Regression', 'Ridge regression', 'Random forest', 'DecisionTree'], 'Train error': train_error, \n",
    "             'Test error': test_error}\n",
    "        d = pd.DataFrame(data=d)\n",
    "    return d\n",
    "### END Solution (do not delete this comment)"
   ]
  },
  {
   "cell_type": "markdown",
   "metadata": {
    "id": "demographic-honolulu"
   },
   "source": [
    "**1.2.2) Apply the implemented function to our dataset (use only the 20 most important features)**"
   ]
  },
  {
   "cell_type": "code",
   "execution_count": 13,
   "metadata": {
    "ExecuteTime": {
     "end_time": "2022-03-06T22:38:38.625633Z",
     "start_time": "2022-03-06T22:38:11.345185Z"
    }
   },
   "outputs": [
    {
     "data": {
      "text/html": [
       "<div>\n",
       "<style scoped>\n",
       "    .dataframe tbody tr th:only-of-type {\n",
       "        vertical-align: middle;\n",
       "    }\n",
       "\n",
       "    .dataframe tbody tr th {\n",
       "        vertical-align: top;\n",
       "    }\n",
       "\n",
       "    .dataframe thead th {\n",
       "        text-align: right;\n",
       "    }\n",
       "</style>\n",
       "<table border=\"1\" class=\"dataframe\">\n",
       "  <thead>\n",
       "    <tr style=\"text-align: right;\">\n",
       "      <th></th>\n",
       "      <th>Methods</th>\n",
       "      <th>Train error</th>\n",
       "      <th>Test error</th>\n",
       "    </tr>\n",
       "  </thead>\n",
       "  <tbody>\n",
       "    <tr>\n",
       "      <th>0</th>\n",
       "      <td>Linear Regression</td>\n",
       "      <td>0.033030</td>\n",
       "      <td>0.033563</td>\n",
       "    </tr>\n",
       "    <tr>\n",
       "      <th>1</th>\n",
       "      <td>Ridge regression</td>\n",
       "      <td>0.033030</td>\n",
       "      <td>0.033563</td>\n",
       "    </tr>\n",
       "    <tr>\n",
       "      <th>2</th>\n",
       "      <td>Random forest</td>\n",
       "      <td>0.011159</td>\n",
       "      <td>0.030100</td>\n",
       "    </tr>\n",
       "    <tr>\n",
       "      <th>3</th>\n",
       "      <td>DecisionTree</td>\n",
       "      <td>0.000034</td>\n",
       "      <td>0.042134</td>\n",
       "    </tr>\n",
       "  </tbody>\n",
       "</table>\n",
       "</div>"
      ],
      "text/plain": [
       "             Methods  Train error  Test error\n",
       "0  Linear Regression     0.033030    0.033563\n",
       "1   Ridge regression     0.033030    0.033563\n",
       "2      Random forest     0.011159    0.030100\n",
       "3       DecisionTree     0.000034    0.042134"
      ]
     },
     "execution_count": 13,
     "metadata": {},
     "output_type": "execute_result"
    }
   ],
   "source": [
    "### BEGIN Solution\n",
    "d = train_score(x_train[important_features], x_test[important_features], y_train_log, y_test_log)\n",
    "d\n",
    "### END Solution"
   ]
  },
  {
   "cell_type": "markdown",
   "metadata": {
    "id": "6lSOGA4-7RSx"
   },
   "source": [
    "<br>"
   ]
  },
  {
   "cell_type": "markdown",
   "metadata": {
    "id": "stock-jewel"
   },
   "source": [
    "### Subproblem 1.3. Forward-backward methods (1 point)\n",
    "In the subproblems above, we have relied on the feature importances found by the random forest method. The main goal of this subproblem is to find feature importances by applying the forward-backward methods: the main idea is to add or remove features and compute how this removal influences the value of the loss function or some other criteria.\n",
    "\n",
    "The decision about adding or deleting a feature may be made based on:\n",
    "\n",
    "- AIC\n",
    "- BIC\n",
    "- validation error\n",
    "- Mallows $C_p$\n",
    "- sklearn's `estimator.score()`"
   ]
  },
  {
   "cell_type": "markdown",
   "metadata": {
    "id": "southern-closer"
   },
   "source": [
    "In subtasks, 1.3.1 - 1.3.3, implement the following greedy feature selection algorithm with early stopping using the mean of the RMSLE scores achieved on the 3-fold cross-validation. Please bear in mind that **the lower** RMSLE (`mean_squared_log_error`) is, **the higher the model \"quality\" is** and look up `cross_val_score(...)` peculiarities in [scikit's manual](https://scikit-learn.org/stable/documentation.html) for more information.\n",
    "\n",
    "```python\n",
    "# Initialize with an empty list of features.\n",
    "list_of_best_features = []\n",
    "\n",
    "while round < n_rounds:\n",
    "    round = round + 1\n",
    "    \n",
    "    if no_more_features:\n",
    "        # end loop\n",
    "\n",
    "    # Iterate over currently *unused* features and use $k$-fold \n",
    "    # . `cross_val_score` to measure model \"quality\".\n",
    "    compute_quality_with_each_new_unused_feature(...)\n",
    "\n",
    "    # **Add** the feature that gives the highest \"quality\" of the model.\n",
    "    pick_and_add_the_best_feature(...)\n",
    "\n",
    "    if model_quality_has_increased_since_last_round:\n",
    "        round = 0\n",
    "\n",
    "return list_of_best_features\n",
    "```"
   ]
  },
  {
   "cell_type": "markdown",
   "metadata": {
    "id": "suffering-italy"
   },
   "source": [
    "**1.3.1) In the cell below, you have to implement a function that would iterate over a list of features and use $k$-fold `cross_val_score` to measure the model's \"quality\".** "
   ]
  },
  {
   "cell_type": "code",
   "execution_count": 54,
   "metadata": {
    "ExecuteTime": {
     "end_time": "2022-02-26T21:13:12.674979Z",
     "start_time": "2022-02-26T21:13:12.670907Z"
    },
    "id": "caroline-state"
   },
   "outputs": [],
   "source": [
    "from sklearn.metrics import make_scorer\n",
    "\n",
    "def selection_step(model, X, y, used_features=(), cv=3):\n",
    "    \"\"\"\n",
    "    Parameters\n",
    "    ==========\n",
    "    \n",
    "        X: ndarray - training inputs\n",
    "        y: ndarray - training targets\n",
    "        used_features: - list of features\n",
    "        cv: int - number of folds\n",
    "\n",
    "    Returns\n",
    "    =======\n",
    "        scores - dictionary of scores\n",
    "    \"\"\"\n",
    "    \n",
    "    scores = {}\n",
    "    \n",
    "    ### BEGIN Solution\n",
    "    scorer = make_scorer(mean_squared_log_error, greater_is_better = False)\n",
    "    used_features = list(used_features)\n",
    "    for j in range(X.shape[1]):\n",
    "        if j not in used_features:\n",
    "            used_features.append(j)     \n",
    "            scores[j] = np.sum(cross_val_score(model, X[:,used_features], y,\n",
    "                                           scoring = scorer, cv=cv, n_jobs=-1))/3\n",
    "            used_features.pop()\n",
    "    ### END Solution\n",
    "\n",
    "    return scores"
   ]
  },
  {
   "cell_type": "markdown",
   "metadata": {
    "id": "laughing-patio"
   },
   "source": [
    "**1.3.2) Implement a forward greedy feature selection function (the one described in the pseudocode in subtask 1 above) that would**\n",
    "\n",
    "**- compute the model's \"quality\" over the currently *unused* features**\n",
    "\n",
    "**- find the feature, which has given the best score and add it to the list of the currently *used* features**\n",
    "\n",
    "**- if the model's quality has increased since the last round, add this feature to the list of the best features and  print the best score and the current best features list**\n",
    "\n",
    "**Do not forget to implement the early stopping.**"
   ]
  },
  {
   "cell_type": "code",
   "execution_count": 57,
   "metadata": {
    "ExecuteTime": {
     "end_time": "2022-02-26T21:23:06.545213Z",
     "start_time": "2022-02-26T21:23:06.541371Z"
    },
    "id": "pressed-worse"
   },
   "outputs": [],
   "source": [
    "def forward_steps(X, y, n_rounds, model):\n",
    "    \"\"\"\n",
    "    Parameters\n",
    "    ==========\n",
    "        X: ndarray - training inputs\n",
    "        y: ndarray - training targets\n",
    "        n_rounds: int - early stop when score doesn't increase n_rounds\n",
    "        model: sklearn model\n",
    "\n",
    "    Returns\n",
    "    =======\n",
    "        feat_best_list - list of features\n",
    "    \"\"\"\n",
    "    \n",
    "    feat_best_list = [] \n",
    "\n",
    "    ### BEGIN Solution   \n",
    "    max_score = -np.inf\n",
    "    round = 0\n",
    "    while round < n_rounds:\n",
    "        round = round + 1\n",
    "        if len(feat_best_list) == X.shape[1]:\n",
    "            break\n",
    "        scores = selection_step(model, X, y, used_features=feat_best_list)\n",
    "        current_max_score_feature = max(scores, key=scores.get)\n",
    "        if scores[current_max_score_feature] > max_score:\n",
    "            max_score = scores[current_max_score_feature]\n",
    "            feat_best_list.append(current_max_score_feature)\n",
    "            print(-max_score, feat_best_list)\n",
    "            round = 0  \n",
    "    return feat_best_list         \n",
    "    ### END Solution\n",
    "\n"
   ]
  },
  {
   "cell_type": "markdown",
   "metadata": {
    "id": "geographic-holly"
   },
   "source": [
    "**1.3.3) Use the function implemented above + DecisionTreeRegressor to get the best features according to this algorithm. (HINT: Use ```n_rounds = 2```)**"
   ]
  },
  {
   "cell_type": "code",
   "execution_count": 58,
   "metadata": {
    "ExecuteTime": {
     "end_time": "2022-02-26T21:57:25.178153Z",
     "start_time": "2022-02-26T21:23:11.120386Z"
    },
    "colab": {
     "base_uri": "https://localhost:8080/"
    },
    "id": "hazardous-retirement",
    "outputId": "81502f2d-f6fa-4497-d569-58605bfff430"
   },
   "outputs": [
    {
     "name": "stdout",
     "output_type": "stream",
     "text": [
      "0.0010418059452246312 [0]\n",
      "0.0009650853351353497 [0, 529]\n",
      "0.0009526360183523385 [0, 529, 442]\n",
      "0.0009478603016852567 [0, 529, 442, 473]\n",
      "0.0009449211684221643 [0, 529, 442, 473, 466]\n",
      "0.0009423501112052623 [0, 529, 442, 473, 466, 399]\n",
      "0.0009399246542121804 [0, 529, 442, 473, 466, 399, 457]\n",
      "0.000937915626205316 [0, 529, 442, 473, 466, 399, 457, 513]\n",
      "0.0009362025881562261 [0, 529, 442, 473, 466, 399, 457, 513, 441]\n",
      "0.0009349200642773061 [0, 529, 442, 473, 466, 399, 457, 513, 441, 419]\n",
      "0.0009338022214146164 [0, 529, 442, 473, 466, 399, 457, 513, 441, 419, 373]\n",
      "0.0009325433709744684 [0, 529, 442, 473, 466, 399, 457, 513, 441, 419, 373, 461]\n",
      "0.0009317449354405131 [0, 529, 442, 473, 466, 399, 457, 513, 441, 419, 373, 461, 512]\n",
      "0.000931036720852757 [0, 529, 442, 473, 466, 399, 457, 513, 441, 419, 373, 461, 512, 467]\n",
      "0.0009302547399935281 [0, 529, 442, 473, 466, 399, 457, 513, 441, 419, 373, 461, 512, 467, 509]\n",
      "0.0009298108899779281 [0, 529, 442, 473, 466, 399, 457, 513, 441, 419, 373, 461, 512, 467, 509, 440]\n",
      "0.0009294379771524985 [0, 529, 442, 473, 466, 399, 457, 513, 441, 419, 373, 461, 512, 467, 509, 440, 471]\n",
      "0.0009290652301016277 [0, 529, 442, 473, 466, 399, 457, 513, 441, 419, 373, 461, 512, 467, 509, 440, 471, 374]\n",
      "0.0009287852846581373 [0, 529, 442, 473, 466, 399, 457, 513, 441, 419, 373, 461, 512, 467, 509, 440, 471, 374, 396]\n",
      "0.0009284907174715667 [0, 529, 442, 473, 466, 399, 457, 513, 441, 419, 373, 461, 512, 467, 509, 440, 471, 374, 396, 417]\n",
      "0.0009281926103052855 [0, 529, 442, 473, 466, 399, 457, 513, 441, 419, 373, 461, 512, 467, 509, 440, 471, 374, 396, 417, 460]\n",
      "0.0009280246368263409 [0, 529, 442, 473, 466, 399, 457, 513, 441, 419, 373, 461, 512, 467, 509, 440, 471, 374, 396, 417, 460, 469]\n",
      "0.0009277656557340528 [0, 529, 442, 473, 466, 399, 457, 513, 441, 419, 373, 461, 512, 467, 509, 440, 471, 374, 396, 417, 460, 469, 474]\n",
      "0.0009276262571436193 [0, 529, 442, 473, 466, 399, 457, 513, 441, 419, 373, 461, 512, 467, 509, 440, 471, 374, 396, 417, 460, 469, 474, 459]\n"
     ]
    },
    {
     "data": {
      "text/plain": [
       "[0,\n",
       " 529,\n",
       " 442,\n",
       " 473,\n",
       " 466,\n",
       " 399,\n",
       " 457,\n",
       " 513,\n",
       " 441,\n",
       " 419,\n",
       " 373,\n",
       " 461,\n",
       " 512,\n",
       " 467,\n",
       " 509,\n",
       " 440,\n",
       " 471,\n",
       " 374,\n",
       " 396,\n",
       " 417,\n",
       " 460,\n",
       " 469,\n",
       " 474,\n",
       " 459]"
      ]
     },
     "execution_count": 58,
     "metadata": {},
     "output_type": "execute_result"
    }
   ],
   "source": [
    "### BEGIN Solution\n",
    "feat_best_list = forward_steps(np.array(x_train), np.array(y_train_log), 2, DecisionTreeRegressor())\n",
    "feat_best_list\n",
    "### END Solution"
   ]
  },
  {
   "cell_type": "markdown",
   "metadata": {
    "id": "contrary-packet"
   },
   "source": [
    "**1.3.4) Use Linear Regression, Ridge regression, Random forest and DecisionTree to get the RMSLE scores using these features. Remember the function you wrote earlier.**"
   ]
  },
  {
   "cell_type": "code",
   "execution_count": 11,
   "metadata": {
    "ExecuteTime": {
     "end_time": "2022-03-06T22:37:20.797091Z",
     "start_time": "2022-03-06T22:37:18.724149Z"
    },
    "colab": {
     "base_uri": "https://localhost:8080/",
     "height": 221
    },
    "id": "graduate-tooth",
    "outputId": "72812408-0c21-4229-ff2d-f29243966f3d"
   },
   "outputs": [
    {
     "data": {
      "text/html": [
       "<div>\n",
       "<style scoped>\n",
       "    .dataframe tbody tr th:only-of-type {\n",
       "        vertical-align: middle;\n",
       "    }\n",
       "\n",
       "    .dataframe tbody tr th {\n",
       "        vertical-align: top;\n",
       "    }\n",
       "\n",
       "    .dataframe thead th {\n",
       "        text-align: right;\n",
       "    }\n",
       "</style>\n",
       "<table border=\"1\" class=\"dataframe\">\n",
       "  <thead>\n",
       "    <tr style=\"text-align: right;\">\n",
       "      <th></th>\n",
       "      <th>Methods</th>\n",
       "      <th>Train error</th>\n",
       "      <th>Test error</th>\n",
       "    </tr>\n",
       "  </thead>\n",
       "  <tbody>\n",
       "    <tr>\n",
       "      <th>0</th>\n",
       "      <td>Linear Regression</td>\n",
       "      <td>0.033563</td>\n",
       "      <td>0.034236</td>\n",
       "    </tr>\n",
       "    <tr>\n",
       "      <th>1</th>\n",
       "      <td>Ridge regression</td>\n",
       "      <td>0.033565</td>\n",
       "      <td>0.034234</td>\n",
       "    </tr>\n",
       "    <tr>\n",
       "      <th>2</th>\n",
       "      <td>Random forest</td>\n",
       "      <td>0.029330</td>\n",
       "      <td>0.031213</td>\n",
       "    </tr>\n",
       "    <tr>\n",
       "      <th>3</th>\n",
       "      <td>DecisionTree</td>\n",
       "      <td>0.029276</td>\n",
       "      <td>0.031308</td>\n",
       "    </tr>\n",
       "  </tbody>\n",
       "</table>\n",
       "</div>"
      ],
      "text/plain": [
       "             Methods  Train error  Test error\n",
       "0  Linear Regression     0.033563    0.034236\n",
       "1   Ridge regression     0.033565    0.034234\n",
       "2      Random forest     0.029330    0.031213\n",
       "3       DecisionTree     0.029276    0.031308"
      ]
     },
     "execution_count": 11,
     "metadata": {},
     "output_type": "execute_result"
    }
   ],
   "source": [
    "### BEGIN Solution\n",
    "train_score(np.array(x_train)[:,feat_best_list], np.array(x_test)[:,feat_best_list], y_train_log, y_test_log)\n",
    "### END Solution"
   ]
  },
  {
   "cell_type": "markdown",
   "metadata": {
    "id": "infinite-navigation"
   },
   "source": [
    "<br>"
   ]
  },
  {
   "cell_type": "markdown",
   "metadata": {
    "id": "individual-rendering"
   },
   "source": [
    "## Task 2. Multi-Class Classification Strategies (1 point)\n",
    "In this task, you will deal with the multiclass classification problem for the Glass Classification Data. Let's load the dataset."
   ]
  },
  {
   "cell_type": "code",
   "execution_count": 11,
   "metadata": {
    "ExecuteTime": {
     "end_time": "2022-02-26T15:21:05.527060Z",
     "start_time": "2022-02-26T15:21:05.366504Z"
    },
    "colab": {
     "base_uri": "https://localhost:8080/",
     "height": 142
    },
    "id": "technical-trader",
    "outputId": "91043ffe-6127-441b-a6ae-58f111768d40"
   },
   "outputs": [
    {
     "data": {
      "text/html": [
       "<div>\n",
       "<style scoped>\n",
       "    .dataframe tbody tr th:only-of-type {\n",
       "        vertical-align: middle;\n",
       "    }\n",
       "\n",
       "    .dataframe tbody tr th {\n",
       "        vertical-align: top;\n",
       "    }\n",
       "\n",
       "    .dataframe thead th {\n",
       "        text-align: right;\n",
       "    }\n",
       "</style>\n",
       "<table border=\"1\" class=\"dataframe\">\n",
       "  <thead>\n",
       "    <tr style=\"text-align: right;\">\n",
       "      <th></th>\n",
       "      <th>RI</th>\n",
       "      <th>Na</th>\n",
       "      <th>Mg</th>\n",
       "      <th>Al</th>\n",
       "      <th>Si</th>\n",
       "      <th>K</th>\n",
       "      <th>Ca</th>\n",
       "      <th>Ba</th>\n",
       "      <th>Fe</th>\n",
       "      <th>Type</th>\n",
       "    </tr>\n",
       "  </thead>\n",
       "  <tbody>\n",
       "    <tr>\n",
       "      <th>34</th>\n",
       "      <td>1.51783</td>\n",
       "      <td>12.69</td>\n",
       "      <td>3.54</td>\n",
       "      <td>1.34</td>\n",
       "      <td>72.95</td>\n",
       "      <td>0.57</td>\n",
       "      <td>8.75</td>\n",
       "      <td>0.0</td>\n",
       "      <td>0.0</td>\n",
       "      <td>1</td>\n",
       "    </tr>\n",
       "    <tr>\n",
       "      <th>86</th>\n",
       "      <td>1.51569</td>\n",
       "      <td>13.24</td>\n",
       "      <td>3.49</td>\n",
       "      <td>1.47</td>\n",
       "      <td>73.25</td>\n",
       "      <td>0.38</td>\n",
       "      <td>8.03</td>\n",
       "      <td>0.0</td>\n",
       "      <td>0.0</td>\n",
       "      <td>2</td>\n",
       "    </tr>\n",
       "    <tr>\n",
       "      <th>49</th>\n",
       "      <td>1.51898</td>\n",
       "      <td>13.58</td>\n",
       "      <td>3.35</td>\n",
       "      <td>1.23</td>\n",
       "      <td>72.08</td>\n",
       "      <td>0.59</td>\n",
       "      <td>8.91</td>\n",
       "      <td>0.0</td>\n",
       "      <td>0.0</td>\n",
       "      <td>1</td>\n",
       "    </tr>\n",
       "  </tbody>\n",
       "</table>\n",
       "</div>"
      ],
      "text/plain": [
       "         RI     Na    Mg    Al     Si     K    Ca   Ba   Fe  Type\n",
       "34  1.51783  12.69  3.54  1.34  72.95  0.57  8.75  0.0  0.0     1\n",
       "86  1.51569  13.24  3.49  1.47  73.25  0.38  8.03  0.0  0.0     2\n",
       "49  1.51898  13.58  3.35  1.23  72.08  0.59  8.91  0.0  0.0     1"
      ]
     },
     "execution_count": 11,
     "metadata": {},
     "output_type": "execute_result"
    }
   ],
   "source": [
    "data = pd.read_csv('glass.csv')\n",
    "X, y = data.drop('Type', axis=1), data.Type\n",
    "data.sample(3)"
   ]
  },
  {
   "cell_type": "markdown",
   "metadata": {
    "id": "flying-region"
   },
   "source": [
    "The features of each glass object correspond to the fraction of the particular chemical element in the object. The target variable corresponds to the type of glass (6 classes).\n",
    "\n",
    "In this problem, you have to empirically compare the time complexity and performance of several multiclass labeling strategies for different algorithms. You must consider the following algorithms:\n",
    "* Single Decision Tree (depth 7)\n",
    "* Medium Random Forest (100 trees of depth 3)\n",
    "* KNearestNeighbors (5 neighbors)\n",
    "* Logistic Regression\n",
    "\n",
    "Note that all these algorithms by default support **multiclass labeling**. Nevertheless, we want you to compare this approach with **OneVSRest** and **OneVSOne** approaches applied to these algorithms. More precisely, for every pair (algorithm, approach) you are to perform a 5-fold cross-validation on the data and output the validation score and the computation time in the **table** form. Please note that you also have to choose the metric to optimize during CV (e.g. accuracy, balanced accuracy) on your own. \n",
    "\n",
    "After that, you are to answer the following questions:\n",
    "* Which metric did you choose to optimize during cross-validation and why? Explain\n",
    "* For which algorithms the usage of OneVSRest/OneVSOne approach provides significantly better performance without a significant increase in computation time?"
   ]
  },
  {
   "cell_type": "code",
   "execution_count": 29,
   "metadata": {
    "ExecuteTime": {
     "end_time": "2022-02-26T15:38:58.883802Z",
     "start_time": "2022-02-26T15:38:49.776642Z"
    },
    "colab": {
     "base_uri": "https://localhost:8080/",
     "height": 301
    },
    "id": "authentic-slope",
    "outputId": "5421c6dc-461c-4d7e-c472-aaf96785958a",
    "scrolled": false
   },
   "outputs": [
    {
     "name": "stdout",
     "output_type": "stream",
     "text": [
      "Cross Validation Scores\n"
     ]
    },
    {
     "data": {
      "text/html": [
       "<div>\n",
       "<style scoped>\n",
       "    .dataframe tbody tr th:only-of-type {\n",
       "        vertical-align: middle;\n",
       "    }\n",
       "\n",
       "    .dataframe tbody tr th {\n",
       "        vertical-align: top;\n",
       "    }\n",
       "\n",
       "    .dataframe thead th {\n",
       "        text-align: right;\n",
       "    }\n",
       "</style>\n",
       "<table border=\"1\" class=\"dataframe\">\n",
       "  <thead>\n",
       "    <tr style=\"text-align: right;\">\n",
       "      <th></th>\n",
       "      <th>Logistic</th>\n",
       "      <th>Random Forest</th>\n",
       "      <th>K Nearest Neighbors</th>\n",
       "      <th>Decision Tree</th>\n",
       "    </tr>\n",
       "  </thead>\n",
       "  <tbody>\n",
       "    <tr>\n",
       "      <th>Multiclass</th>\n",
       "      <td>0.445040</td>\n",
       "      <td>0.678968</td>\n",
       "      <td>0.551071</td>\n",
       "      <td>0.527897</td>\n",
       "    </tr>\n",
       "    <tr>\n",
       "      <th>OneVsRest</th>\n",
       "      <td>0.385298</td>\n",
       "      <td>0.657123</td>\n",
       "      <td>0.575159</td>\n",
       "      <td>0.528294</td>\n",
       "    </tr>\n",
       "    <tr>\n",
       "      <th>OneVsOne</th>\n",
       "      <td>0.432619</td>\n",
       "      <td>0.632698</td>\n",
       "      <td>0.554921</td>\n",
       "      <td>0.657560</td>\n",
       "    </tr>\n",
       "  </tbody>\n",
       "</table>\n",
       "</div>"
      ],
      "text/plain": [
       "            Logistic  Random Forest  K Nearest Neighbors  Decision Tree\n",
       "Multiclass  0.445040       0.678968             0.551071       0.527897\n",
       "OneVsRest   0.385298       0.657123             0.575159       0.528294\n",
       "OneVsOne    0.432619       0.632698             0.554921       0.657560"
      ]
     },
     "metadata": {},
     "output_type": "display_data"
    },
    {
     "name": "stdout",
     "output_type": "stream",
     "text": [
      "Training Duration (CV=5)\n"
     ]
    },
    {
     "data": {
      "text/html": [
       "<div>\n",
       "<style scoped>\n",
       "    .dataframe tbody tr th:only-of-type {\n",
       "        vertical-align: middle;\n",
       "    }\n",
       "\n",
       "    .dataframe tbody tr th {\n",
       "        vertical-align: top;\n",
       "    }\n",
       "\n",
       "    .dataframe thead th {\n",
       "        text-align: right;\n",
       "    }\n",
       "</style>\n",
       "<table border=\"1\" class=\"dataframe\">\n",
       "  <thead>\n",
       "    <tr style=\"text-align: right;\">\n",
       "      <th></th>\n",
       "      <th>Logistic</th>\n",
       "      <th>Random Forest</th>\n",
       "      <th>K Nearest Neighbors</th>\n",
       "      <th>Decision Tree</th>\n",
       "    </tr>\n",
       "  </thead>\n",
       "  <tbody>\n",
       "    <tr>\n",
       "      <th>Multiclass</th>\n",
       "      <td>0.032071</td>\n",
       "      <td>0.135764</td>\n",
       "      <td>0.002119</td>\n",
       "      <td>0.003018</td>\n",
       "    </tr>\n",
       "    <tr>\n",
       "      <th>OneVsRest</th>\n",
       "      <td>0.150074</td>\n",
       "      <td>0.809965</td>\n",
       "      <td>0.012998</td>\n",
       "      <td>0.015508</td>\n",
       "    </tr>\n",
       "    <tr>\n",
       "      <th>OneVsOne</th>\n",
       "      <td>0.321515</td>\n",
       "      <td>1.820276</td>\n",
       "      <td>0.021130</td>\n",
       "      <td>0.024004</td>\n",
       "    </tr>\n",
       "  </tbody>\n",
       "</table>\n",
       "</div>"
      ],
      "text/plain": [
       "            Logistic  Random Forest  K Nearest Neighbors  Decision Tree\n",
       "Multiclass  0.032071       0.135764             0.002119       0.003018\n",
       "OneVsRest   0.150074       0.809965             0.012998       0.015508\n",
       "OneVsOne    0.321515       1.820276             0.021130       0.024004"
      ]
     },
     "metadata": {},
     "output_type": "display_data"
    }
   ],
   "source": [
    "### BEGIN Solution (do not delete this comment)\n",
    "from sklearn.multiclass import OneVsRestClassifier, OneVsOneClassifier\n",
    "from sklearn.neighbors import KNeighborsClassifier\n",
    "from sklearn.tree import DecisionTreeClassifier\n",
    "from sklearn.ensemble import RandomForestClassifier\n",
    "from sklearn.metrics import balanced_accuracy_score\n",
    "from sklearn.linear_model import LogisticRegression\n",
    "from sklearn.base import clone\n",
    "algs = [\n",
    "    LogisticRegression(random_state=2),\n",
    "    RandomForestClassifier(random_state=2),\n",
    "    KNeighborsClassifier(),\n",
    "    DecisionTreeClassifier(random_state=2)\n",
    "]\n",
    "# approaches = [OneVsRestClassifier(), OneVsOneClassifier()]\n",
    "labels = ['Logistic', 'Random Forest', 'K Nearest Neighbors', 'Decision Tree']\n",
    "scores = {}\n",
    "time = {}\n",
    "scorer = make_scorer(balanced_accuracy_score)\n",
    "\n",
    "for alg, label in zip(algs, labels):\n",
    "    cv_results = sklearn.model_selection.cross_validate(alg,\n",
    "                                                            X,\n",
    "                                                            y,\n",
    "                                                            scoring=scorer,\n",
    "                                                            cv=5,\n",
    "                                                            n_jobs=-1)\n",
    "    scores[label] = [np.mean(cv_results['test_score'])]\n",
    "    time[label] = [np.mean(cv_results['fit_time'])]\n",
    "\n",
    "for alg, label in zip(algs, labels):\n",
    "    app = OneVsRestClassifier(clone(alg), n_jobs=-1)\n",
    "\n",
    "    cv_results = sklearn.model_selection.cross_validate(app,\n",
    "                                                        X,\n",
    "                                                        y,\n",
    "                                                        scoring=scorer,\n",
    "                                                        cv=5,\n",
    "                                                        n_jobs=-1)\n",
    "    scores[label].append(np.mean(cv_results['test_score']))\n",
    "    time[label].append(np.mean(cv_results['fit_time']))\n",
    "        \n",
    "for alg, label in zip(algs, labels):\n",
    "    app = OneVsOneClassifier(clone(alg), n_jobs=-1)\n",
    "\n",
    "    cv_results = sklearn.model_selection.cross_validate(app,\n",
    "                                                        X,\n",
    "                                                        y,\n",
    "                                                        scoring=scorer,\n",
    "                                                        cv=5,\n",
    "                                                        n_jobs=-1)\n",
    "    scores[label].append(np.mean(cv_results['test_score']))\n",
    "    time[label].append(np.mean(cv_results['fit_time']))\n",
    "\n",
    "scores = pd.DataFrame(data=scores, index = ['Multiclass', 'OneVsRest', 'OneVsOne'])\n",
    "time = pd.DataFrame(data=time, index = ['Multiclass', 'OneVsRest', 'OneVsOne'])\n",
    "print('Cross Validation Scores')\n",
    "display(scores)\n",
    "print('Training Duration (CV=5)')\n",
    "display(time)\n",
    "### END Solution (do not delete this comment)"
   ]
  },
  {
   "cell_type": "markdown",
   "metadata": {
    "id": "married-preserve"
   },
   "source": [
    "**Which metric did you choose to optimize during cross validation and why? Explain**"
   ]
  },
  {
   "cell_type": "markdown",
   "metadata": {
    "id": "dutch-alfred"
   },
   "source": [
    "**Your text answer (do not delete this comment)**:\n",
    "\n",
    "I decided to optimize 'balanced_accuracy_score' metric as after I used function \"y.value_counts()\" I saw that classes are pretty imbalanced. So, if I used usual 'accuracy_score', I would get very bad recall for rare classes."
   ]
  },
  {
   "cell_type": "markdown",
   "metadata": {
    "id": "elect-jerusalem"
   },
   "source": [
    "**For which algorithms the usage of OneVSRest/OneVSOne approach provides significantly better performance without a significant increase in computation time?**"
   ]
  },
  {
   "cell_type": "markdown",
   "metadata": {
    "id": "CH04Ord57RS4"
   },
   "source": [
    "**Your text answer (do not delete this comment)**:\n",
    "\n",
    "From my results, 'OneVsOne' approach provided significantly better performance - like 10%, but the time increase is not huge in terms of absolute difference ~ 0.01 sec."
   ]
  },
  {
   "cell_type": "markdown",
   "metadata": {
    "id": "electric-matthew"
   },
   "source": [
    "# Task 3. Stacking (2 points)"
   ]
  },
  {
   "cell_type": "markdown",
   "metadata": {
    "id": "third-liverpool"
   },
   "source": [
    "Stacking is an ensembling approach, which combines several algorithms (base models) to get better results. This is achieved by **a)** training the base models (any ML models) on the initial train data (or parts of the train data, see the paragraph below), **b)** training the meta-model (also an ML model) on the predictions of those base models.\n",
    "\n",
    "One of the main problems of stacking is overfitting. To avoid it, when evaluating the performance of the meta-model on the train set, the training data is divided into $ n $ folds, $ (n-1) $ of which are used for training the base models. The $ n $ -th fold is used for the overall prediction (calculating the meta-factor) in the following manner: the predictions on the $ n $ -th fold are made by the base models (already trained on the rest of the dataset), then these predictions on the $ n $ -th fold are fed as inputs to the meta-model.\n",
    "\n",
    "When evaluating the performance of the meta-model on the test set, there can be used various approaches$.^{[1]}$ For example, in order, to obtain meta-factors for the test data, the base classifiers can be retrained on the entire training set, since the problem of overfitting does not arise here. In other words, if we want to calculate the factors for the test set, we can safely use the training set to train the base classifiers (once again, as it is said in the paragraph above, if we want to calculate factors for the training set, then it is necessary to ensure that the classifier does not predict for those objects on which it has been trained).  \n",
    "\n",
    "You can read more details about stacking [blockpost](https://blog.statsbot.co/ensemble-learning-d1dcd548e936), [kaggle ensemble guide](https://mlwave.com/kaggle-ensembling-guide/).\n",
    "\n",
    "P.S. Stacking and Blending are two similar approaches to combining classifiers (ensembling). The difference is that Stacking uses out-of-fold predictions for the train set, and Blending uses a validation set to train the next layer ([source](quora.com/What-are-examples-of-blending-and-stacking-in-Machine-Learning)). Because they are so similar you can use any of them. \n",
    "\n",
    "[1] http://www.machinelearning.ru/wiki/images/5/56/Guschin2015Stacking.pdf  "
   ]
  },
  {
   "cell_type": "markdown",
   "metadata": {
    "id": "recognized-guest"
   },
   "source": [
    "**Your task will be:**\n",
    "\n",
    "* Complete the ```meta_classfier``` function\n",
    "* Choose 6 different base models (base models can be any models that you know, and can differ between each other by different hyperparameters, models of ml, features e.t.c) and train them.\n",
    "* Report individual accuracy on the test set for each of the models.\n",
    "* Train the metaclassifier (in this case, once again, it is just an ML model) on the original dataset's features, report score on test.\n",
    "* Train the metaclassifier on the base models using $n$-fold cross-validation, as described above. Report the training score of the meta-classifier on the $ n $-th fold. Retrain the base models on the whole training set. Report the test score (accuracy) of the meta-classifier in this case.\n",
    "* Does stacking help to gain a better score?"
   ]
  },
  {
   "cell_type": "markdown",
   "metadata": {
    "id": "incident-ceremony"
   },
   "source": [
    "For this task we will use the dataset fetch_covertype from [sklearn](https://scikit-learn.org/stable/modules/generated/sklearn.datasets.fetch_covtype.html#sklearn.datasets.fetch_covtype). Split it train-test - 60/40.\n",
    "More details about this dataset you can find [here](https://archive.ics.uci.edu/ml/datasets/Covertype)"
   ]
  },
  {
   "cell_type": "code",
   "execution_count": 18,
   "metadata": {
    "ExecuteTime": {
     "end_time": "2022-02-28T00:17:33.533434Z",
     "start_time": "2022-02-28T00:17:32.508368Z"
    },
    "id": "banner-input"
   },
   "outputs": [],
   "source": [
    "from sklearn import datasets\n",
    "fc = sklearn.datasets.fetch_covtype()"
   ]
  },
  {
   "cell_type": "markdown",
   "metadata": {
    "id": "collected-flash"
   },
   "source": [
    "Write meta classifier function."
   ]
  },
  {
   "cell_type": "code",
   "execution_count": 32,
   "metadata": {
    "ExecuteTime": {
     "end_time": "2022-03-01T08:45:09.478448Z",
     "start_time": "2022-03-01T08:45:09.472825Z"
    },
    "id": "brilliant-greensboro"
   },
   "outputs": [],
   "source": [
    "def meta_classifier(base_clfs, final_classifier, X_train, X_test, y_train, cv):\n",
    "    \"\"\"\n",
    "    Meta classifier prediction using stacking. \n",
    "    Input:\n",
    "    :param base_clfs: list,  base classifiers which will be stacked together.\n",
    "    :param final_classifier: estimator, a classifier which will be used to combine the base estimators. \n",
    "    :param X_train: numpy array or pandas table, train set.\n",
    "    :param y_train: numpy array or pandas table, target for train set.\n",
    "    :param X_test: numpy array or pandas table, test set.\n",
    "    :param cv: number of cross-validation folds.\n",
    "    \n",
    "    Output:\n",
    "    :param y_pred: numpy array or pandas table, prediction of meta classifier using stacking on test set.\n",
    "    :param final_classifier(optional): estimator, trained final_calssifier.\n",
    "    \n",
    "    \n",
    "    More details https://scikit-learn.org/stable/modules/generated/sklearn.ensemble.StackingClassifier.html\n",
    "    \n",
    "    \"\"\"\n",
    "    ### BEGIN Solution (do not delete this comment)\n",
    "    meta_train_input=np.zeros(X_train.shape[0])\n",
    "    meta_test_input=np.zeros(X_test.shape[0])\n",
    "    #In the course telegram chat we were allowed by TA to implement cross-validation way of stacking, like oh the seminar 6th - \n",
    "    #when every base classifier makes predictions on every fold and uses other folds as train folds, so we receive predictions\n",
    "    # for all folds from base classifiers and feed it to meta_classifier. I implemented this way of stacking as it provides \n",
    "    #better accuracy.\n",
    "    for clf in base_clfs:\n",
    "        meta_train_input = np.vstack((meta_train_input, sklearn.model_selection.cross_val_predict(clf, X_train, y_train, cv=cv, n_jobs = -1)))\n",
    "    meta_train_input = meta_train_input.T\n",
    "    final_classifier.fit(meta_train_input[:,1:len(base_clfs)], y_train)\n",
    "    for clf in base_clfs:\n",
    "        meta_test_input = np.vstack((meta_test_input, clf.predict(X_test)))\n",
    "    meta_test_input = meta_test_input.T   \n",
    "    y_pred = final_classifier.predict(meta_test_input[:,1:len(base_clfs)])\n",
    "    train_score = meta_clf.score(meta_train_input[:,1:len(base_clfs)], y_train)\n",
    "    \n",
    "    return train_score, y_pred, final_classifier\n",
    "        \n",
    "    ### END Solution (do not delete this comment)\n",
    "    pass"
   ]
  },
  {
   "cell_type": "markdown",
   "metadata": {
    "id": "vfZmdicwORxq"
   },
   "source": [
    "### Subproblem 3.1 (1 point)"
   ]
  },
  {
   "cell_type": "markdown",
   "metadata": {
    "id": "incredible-wichita"
   },
   "source": [
    "**3.1.1) Chose 6 different base models (base models can be any models that you know,and can differ with each other by different hyperparameters,  models of ml, features e.t.c) and train them.**"
   ]
  },
  {
   "cell_type": "code",
   "execution_count": 20,
   "metadata": {
    "ExecuteTime": {
     "end_time": "2022-02-28T00:19:28.683993Z",
     "start_time": "2022-02-28T00:18:18.051913Z"
    },
    "colab": {
     "base_uri": "https://localhost:8080/"
    },
    "id": "cleared-supply",
    "outputId": "6c3af77e-4cc3-41cf-85e1-c179b6332f02"
   },
   "outputs": [],
   "source": [
    "### BEGIN Solution (do not delete this comment)\n",
    "from sklearn.naive_bayes import GaussianNB\n",
    "from sklearn.ensemble import GradientBoostingClassifier\n",
    "from sklearn.svm import SVC\n",
    "from sklearn.linear_model import LogisticRegression\n",
    "from sklearn.tree import DecisionTreeClassifier\n",
    "from sklearn.ensemble import RandomForestClassifier, AdaBoostClassifier\n",
    "\n",
    "X = fc['data']\n",
    "y = fc['target']\n",
    "X_train, X_test, y_train, y_test = train_test_split(X, y, test_size=0.4, random_state=1)\n",
    "base_clfs = [\n",
    "    DecisionTreeClassifier(max_depth = 5),\n",
    "    RandomForestClassifier(n_estimators=10, max_depth=8),\n",
    "    RandomForestClassifier(n_estimators=20, max_depth=4),\n",
    "    LogisticRegression(),\n",
    "    AdaBoostClassifier(DecisionTreeClassifier(max_depth=1),\n",
    "                                       n_estimators=50),\n",
    "    GaussianNB()\n",
    "]\n",
    "for clf in base_clfs:\n",
    "    clf.fit(X_train, y_train)\n",
    "### END Solution (do not delete this comment)"
   ]
  },
  {
   "cell_type": "markdown",
   "metadata": {
    "id": "streaming-crowd"
   },
   "source": [
    "**3.1.2) Report individual scores on test set. As a score use accuracy.**"
   ]
  },
  {
   "cell_type": "code",
   "execution_count": 36,
   "metadata": {
    "ExecuteTime": {
     "end_time": "2022-03-01T08:48:38.600010Z",
     "start_time": "2022-03-01T08:48:33.043372Z"
    },
    "colab": {
     "base_uri": "https://localhost:8080/"
    },
    "id": "standing-breakdown",
    "outputId": "34a2ebd2-6a1c-40c4-afec-d5cab639cd46"
   },
   "outputs": [
    {
     "data": {
      "text/html": [
       "<div>\n",
       "<style scoped>\n",
       "    .dataframe tbody tr th:only-of-type {\n",
       "        vertical-align: middle;\n",
       "    }\n",
       "\n",
       "    .dataframe tbody tr th {\n",
       "        vertical-align: top;\n",
       "    }\n",
       "\n",
       "    .dataframe thead th {\n",
       "        text-align: right;\n",
       "    }\n",
       "</style>\n",
       "<table border=\"1\" class=\"dataframe\">\n",
       "  <thead>\n",
       "    <tr style=\"text-align: right;\">\n",
       "      <th></th>\n",
       "      <th>DecisionTreeClassifier</th>\n",
       "      <th>RandomForestClassifier 1</th>\n",
       "      <th>RandomForestClassifier 2</th>\n",
       "      <th>LogisticRegression</th>\n",
       "      <th>AdaBoostClassifier</th>\n",
       "      <th>GaussianNB</th>\n",
       "    </tr>\n",
       "  </thead>\n",
       "  <tbody>\n",
       "    <tr>\n",
       "      <th>0</th>\n",
       "      <td>0.70245</td>\n",
       "      <td>0.696263</td>\n",
       "      <td>0.668695</td>\n",
       "      <td>0.622323</td>\n",
       "      <td>0.497136</td>\n",
       "      <td>0.456238</td>\n",
       "    </tr>\n",
       "  </tbody>\n",
       "</table>\n",
       "</div>"
      ],
      "text/plain": [
       "   DecisionTreeClassifier  RandomForestClassifier 1  RandomForestClassifier 2  \\\n",
       "0                 0.70245                  0.696263                  0.668695   \n",
       "\n",
       "   LogisticRegression  AdaBoostClassifier  GaussianNB  \n",
       "0            0.622323            0.497136    0.456238  "
      ]
     },
     "execution_count": 36,
     "metadata": {},
     "output_type": "execute_result"
    }
   ],
   "source": [
    "### BEGIN Solution (do not delete this comment)\n",
    "labels = [\n",
    "    'DecisionTreeClassifier',\n",
    "    'RandomForestClassifier 1',\n",
    "    'RandomForestClassifier 2',\n",
    "    'LogisticRegression',\n",
    "    'AdaBoostClassifier',\n",
    "    'GaussianNB'\n",
    "]\n",
    "d={}\n",
    "for clf, label in zip(base_clfs, labels):\n",
    "    d[label] = [clf.score(X_test, y_test)]\n",
    "sc = pd.DataFrame(data=d)\n",
    "sc\n",
    "### END Solution (do not delete this comment)"
   ]
  },
  {
   "cell_type": "markdown",
   "metadata": {
    "id": "8CsZdyGPOj6E"
   },
   "source": [
    "### Subproblem 3.2 (1 point)"
   ]
  },
  {
   "cell_type": "markdown",
   "metadata": {
    "id": "adolescent-street"
   },
   "source": [
    "**3.2.1) Train metaclassifier (in this case, once again, it is just an ML model) on original dataset's features. And report score on test.**"
   ]
  },
  {
   "cell_type": "code",
   "execution_count": 22,
   "metadata": {
    "ExecuteTime": {
     "end_time": "2022-02-28T00:19:58.341963Z",
     "start_time": "2022-02-28T00:19:40.133404Z"
    },
    "id": "lesbian-fields"
   },
   "outputs": [
    {
     "data": {
      "text/plain": [
       "0.6223230997611927"
      ]
     },
     "execution_count": 22,
     "metadata": {},
     "output_type": "execute_result"
    }
   ],
   "source": [
    "### BEGIN Solution (do not delete this comment)\n",
    "final_classifier = LogisticRegression()\n",
    "final_classifier.fit(X_train, y_train)\n",
    "final_classifier.score(X_test, y_test)\n",
    "### END Solution (do not delete this comment)"
   ]
  },
  {
   "cell_type": "markdown",
   "metadata": {
    "id": "horizontal-wallace"
   },
   "source": [
    "**3.2.2) Train the metaclassifier on the base models using $n$-fold cross-validation, as described above. Report the training score of the meta-classifier on the $ n $-th fold. Retrain the base models on the whole training set. Report the test score (accuracy) of the meta-classifier in this case.**"
   ]
  },
  {
   "cell_type": "code",
   "execution_count": 39,
   "metadata": {
    "ExecuteTime": {
     "end_time": "2022-03-01T09:10:27.960893Z",
     "start_time": "2022-03-01T09:06:50.828360Z"
    },
    "id": "renewable-concrete"
   },
   "outputs": [
    {
     "name": "stdout",
     "output_type": "stream",
     "text": [
      "train score of the meta-classifier with cross-validation: 0.701027231237468\n",
      "train score of the meta-classifier with training the base models on the whole training set: 0.7049973178966573\n"
     ]
    }
   ],
   "source": [
    "### BEGIN Solution (do not delete this comment)\n",
    "from sklearn.metrics import accuracy_score\n",
    "train_score, stacking_test_output, meta_clf = meta_classifier(base_clfs, final_classifier, X_train, X_test, y_train, 4)\n",
    "print('train score of the meta-classifier with cross-validation:', train_score)\n",
    "\n",
    "\n",
    "\n",
    "#Retrain the base models on the whole training set. Report the test score (accuracy) of the meta-classifier in this case.\n",
    "meta_input=np.zeros(X_train.shape[0])\n",
    "for clf in base_clfs:\n",
    "    clf.fit(X_train, y_train)\n",
    "    meta_input = np.vstack((meta_input, clf.predict(X_train)))\n",
    "meta_input = meta_input.T\n",
    "final_classifier.fit(meta_input[:,1:len(base_clfs)], y_train)\n",
    "print('train score of the meta-classifier with training the base models on the whole training set:', final_classifier.score(meta_input[:,1:len(base_clfs)], y_train))\n",
    "### END Solution (do not delete this comment)"
   ]
  },
  {
   "cell_type": "markdown",
   "metadata": {
    "id": "printable-premium"
   },
   "source": [
    "**3.2.3) Report score(accuracy) on test.**"
   ]
  },
  {
   "cell_type": "code",
   "execution_count": 37,
   "metadata": {
    "ExecuteTime": {
     "end_time": "2022-03-01T08:52:28.755405Z",
     "start_time": "2022-03-01T08:52:28.741679Z"
    },
    "id": "auburn-easter"
   },
   "outputs": [
    {
     "name": "stdout",
     "output_type": "stream",
     "text": [
      "accuracy of the meta-classifier on test: 0.6912846109162883\n"
     ]
    }
   ],
   "source": [
    "### BEGIN Solution (do not delete this comment)\n",
    "print('accuracy of the meta-classifier on test:', accuracy_score(stacking_test_output, y_test))\n",
    "### END Solution (do not delete this comment)"
   ]
  },
  {
   "cell_type": "markdown",
   "metadata": {
    "id": "premier-scout"
   },
   "source": [
    "**3.2.4) Does stacking helped to gain a better score?**"
   ]
  },
  {
   "cell_type": "markdown",
   "metadata": {
    "id": "vSV5hJFR7RS-"
   },
   "source": [
    "**Your text answer (do not delete this comment)**:\n",
    "\n",
    "Yes, stacking helped to get better score. Without stacking our logistic regression gave 0.62.. score, and with stacking it gave 0.69.. score, so we gained around 0.07 better accuracy."
   ]
  }
 ],
 "metadata": {
  "colab": {
   "name": "ML_HW_2.ipynb",
   "provenance": []
  },
  "kernelspec": {
   "display_name": "Python 3",
   "language": "python",
   "name": "python3"
  },
  "language_info": {
   "codemirror_mode": {
    "name": "ipython",
    "version": 3
   },
   "file_extension": ".py",
   "mimetype": "text/x-python",
   "name": "python",
   "nbconvert_exporter": "python",
   "pygments_lexer": "ipython3",
   "version": "3.8.5"
  }
 },
 "nbformat": 4,
 "nbformat_minor": 5
}
